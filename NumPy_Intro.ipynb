{
 "cells": [
  {
   "cell_type": "markdown",
   "id": "bb9cdae4",
   "metadata": {},
   "source": [
    "# Introduction to NumPy\n",
    "\n",
    "[NumPy: Baisc Array Operations](#NumPy:-Baisc-Array-Operations)\n",
    "\n",
    "[Array Attributes and Methods](#Array-Attributes-and-Methods)\n",
    " -  [YouTube | CodeBasics](https://www.youtube.com/watch?v=a8aDcLk4vRc)\n",
    " \n",
    "[Basic Math Operations](#Basic-Math-Operations)\n",
    "\n",
    "[LMS Examples & Practices](#LMS-Examples-&-Practices)"
   ]
  },
  {
   "cell_type": "markdown",
   "id": "115bfe38",
   "metadata": {},
   "source": [
    "## Intro"
   ]
  },
  {
   "cell_type": "code",
   "execution_count": 2,
   "id": "d42d7cd8",
   "metadata": {},
   "outputs": [],
   "source": [
    "import numpy as np\n",
    "import time\n",
    "import sys"
   ]
  },
  {
   "cell_type": "code",
   "execution_count": 3,
   "id": "f0434b51",
   "metadata": {},
   "outputs": [
    {
     "data": {
      "text/plain": [
       "'1.23.1'"
      ]
     },
     "execution_count": 3,
     "metadata": {},
     "output_type": "execute_result"
    }
   ],
   "source": [
    "np.__version__"
   ]
  },
  {
   "cell_type": "code",
   "execution_count": 4,
   "id": "45ffe07d",
   "metadata": {},
   "outputs": [],
   "source": [
    "num_range = range(1000)"
   ]
  },
  {
   "cell_type": "code",
   "execution_count": 5,
   "id": "fa9ffac8",
   "metadata": {},
   "outputs": [
    {
     "name": "stdout",
     "output_type": "stream",
     "text": [
      "range(0, 1000)\n"
     ]
    }
   ],
   "source": [
    "print(num_range)"
   ]
  },
  {
   "cell_type": "code",
   "execution_count": 6,
   "id": "4a407985",
   "metadata": {},
   "outputs": [
    {
     "name": "stdout",
     "output_type": "stream",
     "text": [
      "28000\n"
     ]
    }
   ],
   "source": [
    "print(sys.getsizeof(5)*len(num_range))"
   ]
  },
  {
   "cell_type": "code",
   "execution_count": 7,
   "id": "3ef105f5",
   "metadata": {},
   "outputs": [
    {
     "name": "stdout",
     "output_type": "stream",
     "text": [
      "4000\n"
     ]
    }
   ],
   "source": [
    "array = np.arange(1000)\n",
    "print(array.size*array.itemsize)"
   ]
  },
  {
   "cell_type": "code",
   "execution_count": 8,
   "id": "89e7b641",
   "metadata": {},
   "outputs": [],
   "source": [
    "size = 1000000"
   ]
  },
  {
   "cell_type": "code",
   "execution_count": 9,
   "id": "e633efde",
   "metadata": {},
   "outputs": [],
   "source": [
    "l1 = range(size)\n",
    "l2 = range(size)"
   ]
  },
  {
   "cell_type": "code",
   "execution_count": 10,
   "id": "4bf5f45e",
   "metadata": {},
   "outputs": [],
   "source": [
    "a1 = np.arange(size)\n",
    "a2 = np.arange(size)"
   ]
  },
  {
   "cell_type": "code",
   "execution_count": 11,
   "id": "4dd7f7e7",
   "metadata": {},
   "outputs": [
    {
     "name": "stdout",
     "output_type": "stream",
     "text": [
      "python list took:  99.01881217956543\n"
     ]
    }
   ],
   "source": [
    "# Python list\n",
    "start = time.time()\n",
    "result = [(x+y) for x, y in zip(l1,l2)]\n",
    "print(\"python list took: \",(time.time()-start)*1000);"
   ]
  },
  {
   "cell_type": "code",
   "execution_count": 12,
   "id": "5ed719fc",
   "metadata": {},
   "outputs": [
    {
     "name": "stdout",
     "output_type": "stream",
     "text": [
      "numpy took:  18.609285354614258\n"
     ]
    }
   ],
   "source": [
    "# Numpy array\n",
    "start = time.time()\n",
    "result = a1+a2\n",
    "print(\"numpy took: \",(time.time()-start)*1000);"
   ]
  },
  {
   "cell_type": "markdown",
   "id": "508f7891",
   "metadata": {},
   "source": [
    "## NumPy: Baisc Array Operations\n",
    "\n",
    "Creating NumPy arrays from a list,  \n",
    "Creating NumPy arrays using built-in methods such as:"
   ]
  },
  {
   "cell_type": "code",
   "execution_count": 13,
   "id": "62b7cf00",
   "metadata": {},
   "outputs": [],
   "source": [
    "import numpy as np\n",
    "import time\n",
    "import sys"
   ]
  },
  {
   "cell_type": "markdown",
   "id": "930575c9",
   "metadata": {},
   "source": [
    "### ```.arange```\n",
    "Returns an ndarray object containing evenly spaced values within a given range"
   ]
  },
  {
   "cell_type": "code",
   "execution_count": 14,
   "id": "4acfa649",
   "metadata": {
    "scrolled": false
   },
   "outputs": [
    {
     "data": {
      "text/plain": [
       "array([ 0,  4,  8, 12, 16])"
      ]
     },
     "execution_count": 14,
     "metadata": {},
     "output_type": "execute_result"
    }
   ],
   "source": [
    "np.arange(0,20,4)"
   ]
  },
  {
   "cell_type": "code",
   "execution_count": 15,
   "id": "42d8b09f",
   "metadata": {},
   "outputs": [
    {
     "name": "stdout",
     "output_type": "stream",
     "text": [
      "[ 0  4  8 12 16]\n"
     ]
    }
   ],
   "source": [
    "# To print an output\n",
    "print(np.arange(0,20,4))"
   ]
  },
  {
   "cell_type": "markdown",
   "id": "d0cdf377",
   "metadata": {},
   "source": [
    "### ```.linspace```\n",
    "Returns the number of evenly spaced values between the interval is specified"
   ]
  },
  {
   "cell_type": "code",
   "execution_count": 70,
   "id": "dd882ad0",
   "metadata": {},
   "outputs": [
    {
     "data": {
      "text/plain": [
       "array([ 0.        ,  6.66666667, 13.33333333, 20.        ])"
      ]
     },
     "execution_count": 70,
     "metadata": {},
     "output_type": "execute_result"
    }
   ],
   "source": [
    "# equal pieces\n",
    "np.linspace(0,20,4)"
   ]
  },
  {
   "cell_type": "markdown",
   "id": "a727ef37",
   "metadata": {},
   "source": [
    "### ```.random```\n",
    "Return random floats in the half-open interval [0.0, 1.0)."
   ]
  },
  {
   "cell_type": "code",
   "execution_count": 17,
   "id": "a9c3b3bf",
   "metadata": {},
   "outputs": [
    {
     "data": {
      "text/plain": [
       "array([0.51639863, 0.57066759, 0.02847423])"
      ]
     },
     "execution_count": 17,
     "metadata": {},
     "output_type": "execute_result"
    }
   ],
   "source": [
    "np.random.seed(101) # te get the same results every time\n",
    "np.random.rand(3)"
   ]
  },
  {
   "cell_type": "markdown",
   "id": "ca808bab",
   "metadata": {},
   "source": [
    "### ```.zeros```\n",
    "Returns a new array of specified size, filled with zero"
   ]
  },
  {
   "cell_type": "code",
   "execution_count": 18,
   "id": "ee4f1174",
   "metadata": {},
   "outputs": [
    {
     "data": {
      "text/plain": [
       "array([0, 0, 0, 0, 0, 0])"
      ]
     },
     "execution_count": 18,
     "metadata": {},
     "output_type": "execute_result"
    }
   ],
   "source": [
    "np.zeros(6,dtype=int)"
   ]
  },
  {
   "cell_type": "markdown",
   "id": "7ba45c55",
   "metadata": {},
   "source": [
    "### ```.ones```\n",
    "Returns a new array of specified size and type, filled with ones\n"
   ]
  },
  {
   "cell_type": "code",
   "execution_count": 19,
   "id": "ae972cc4",
   "metadata": {},
   "outputs": [
    {
     "data": {
      "text/plain": [
       "array([1., 1., 1., 1.])"
      ]
     },
     "execution_count": 19,
     "metadata": {},
     "output_type": "execute_result"
    }
   ],
   "source": [
    "np.ones(4)"
   ]
  },
  {
   "cell_type": "markdown",
   "id": "517d6886",
   "metadata": {},
   "source": [
    "### Array Attributes and Methods\n",
    "[YouTube | CodeBasics](https://www.youtube.com/watch?v=a8aDcLk4vRc)"
   ]
  },
  {
   "cell_type": "markdown",
   "id": "d952a4d6",
   "metadata": {},
   "source": [
    "### ```.shape```\n",
    "the shape tuple give the lengths of the corresponding array dimensions"
   ]
  },
  {
   "cell_type": "code",
   "execution_count": 79,
   "id": "e6f52de8",
   "metadata": {},
   "outputs": [
    {
     "data": {
      "text/plain": [
       "(8,)"
      ]
     },
     "execution_count": 79,
     "metadata": {},
     "output_type": "execute_result"
    }
   ],
   "source": [
    "arr = np.arange(8)\n",
    "arr.shape"
   ]
  },
  {
   "cell_type": "code",
   "execution_count": 93,
   "id": "ffb677c7",
   "metadata": {},
   "outputs": [
    {
     "data": {
      "text/plain": [
       "array([[1, 2],\n",
       "       [3, 4],\n",
       "       [5, 6]])"
      ]
     },
     "execution_count": 93,
     "metadata": {},
     "output_type": "execute_result"
    }
   ],
   "source": [
    "a_1 = np.array([[1,2],[3,4],[5,6]])\n",
    "a_1"
   ]
  },
  {
   "cell_type": "code",
   "execution_count": 96,
   "id": "5d43ed23",
   "metadata": {},
   "outputs": [
    {
     "data": {
      "text/plain": [
       "(3, 2)"
      ]
     },
     "execution_count": 96,
     "metadata": {},
     "output_type": "execute_result"
    }
   ],
   "source": [
    "a_1.shape"
   ]
  },
  {
   "cell_type": "markdown",
   "id": "db1f36e6",
   "metadata": {},
   "source": [
    "### ```.reshape```\n",
    "Gives a new shape to an array without changing its data."
   ]
  },
  {
   "cell_type": "code",
   "execution_count": 107,
   "id": "83c5e393",
   "metadata": {
    "scrolled": true
   },
   "outputs": [
    {
     "name": "stdout",
     "output_type": "stream",
     "text": [
      "[0 1 2 3 4 5 6 7]\n"
     ]
    }
   ],
   "source": [
    "arr.reshape(8,1).shape\n",
    "arr;\n",
    "print(arr)"
   ]
  },
  {
   "cell_type": "code",
   "execution_count": 108,
   "id": "297d0fcc",
   "metadata": {
    "scrolled": true
   },
   "outputs": [
    {
     "name": "stdout",
     "output_type": "stream",
     "text": [
      "[[1 2]\n",
      " [3 4]\n",
      " [5 6]]\n"
     ]
    }
   ],
   "source": [
    "a_1.reshape(2,3)\n",
    "a_1;\n",
    "print(a_1)"
   ]
  },
  {
   "cell_type": "code",
   "execution_count": 109,
   "id": "3f5c7f27",
   "metadata": {
    "scrolled": true
   },
   "outputs": [
    {
     "name": "stdout",
     "output_type": "stream",
     "text": [
      "[[1 2]\n",
      " [3 4]\n",
      " [5 6]]\n"
     ]
    }
   ],
   "source": [
    "a_1.reshape(6,1)\n",
    "a_1;\n",
    "print(a_1)"
   ]
  },
  {
   "cell_type": "markdown",
   "id": "3cc3fe94",
   "metadata": {},
   "source": [
    "### ```.ravel```\n"
   ]
  },
  {
   "cell_type": "code",
   "execution_count": 84,
   "id": "9511467b",
   "metadata": {},
   "outputs": [
    {
     "data": {
      "text/plain": [
       "array([0, 1, 2, 3, 4, 5, 6, 7])"
      ]
     },
     "execution_count": 84,
     "metadata": {},
     "output_type": "execute_result"
    }
   ],
   "source": [
    "arr.ravel()"
   ]
  },
  {
   "cell_type": "code",
   "execution_count": 110,
   "id": "b23e47a4",
   "metadata": {},
   "outputs": [
    {
     "data": {
      "text/plain": [
       "array([1, 2, 3, 4, 5, 6])"
      ]
     },
     "execution_count": 110,
     "metadata": {},
     "output_type": "execute_result"
    }
   ],
   "source": [
    "a_1.ravel()"
   ]
  },
  {
   "cell_type": "code",
   "execution_count": 111,
   "id": "6e391b6c",
   "metadata": {},
   "outputs": [
    {
     "data": {
      "text/plain": [
       "array([[1, 2],\n",
       "       [3, 4],\n",
       "       [5, 6]])"
      ]
     },
     "execution_count": 111,
     "metadata": {},
     "output_type": "execute_result"
    }
   ],
   "source": [
    "a_1"
   ]
  },
  {
   "cell_type": "markdown",
   "id": "610b4fa0",
   "metadata": {},
   "source": [
    "### ```.max```\n",
    "Return the maximum along a given axis."
   ]
  },
  {
   "cell_type": "code",
   "execution_count": 22,
   "id": "0a3a5651",
   "metadata": {},
   "outputs": [
    {
     "data": {
      "text/plain": [
       "array([31, 11, 17,  6, 23, 11, 47,  9, 13, 40])"
      ]
     },
     "execution_count": 22,
     "metadata": {},
     "output_type": "execute_result"
    }
   ],
   "source": [
    "np.random.seed(101)\n",
    "ranarr = np.random.randint(0,50,10)\n",
    "ranarr"
   ]
  },
  {
   "cell_type": "code",
   "execution_count": 23,
   "id": "a53623c5",
   "metadata": {},
   "outputs": [
    {
     "data": {
      "text/plain": [
       "47"
      ]
     },
     "execution_count": 23,
     "metadata": {},
     "output_type": "execute_result"
    }
   ],
   "source": [
    "ranarr.max()"
   ]
  },
  {
   "cell_type": "markdown",
   "id": "60b3ff64",
   "metadata": {},
   "source": [
    "### ```.min```\n",
    "Return the minimum along a given axis."
   ]
  },
  {
   "cell_type": "code",
   "execution_count": 24,
   "id": "79cc3345",
   "metadata": {},
   "outputs": [
    {
     "data": {
      "text/plain": [
       "6"
      ]
     },
     "execution_count": 24,
     "metadata": {},
     "output_type": "execute_result"
    }
   ],
   "source": [
    "ranarr.min()"
   ]
  },
  {
   "cell_type": "markdown",
   "id": "87926183",
   "metadata": {},
   "source": [
    "### ```.sum```"
   ]
  },
  {
   "cell_type": "code",
   "execution_count": 112,
   "id": "6df3756d",
   "metadata": {},
   "outputs": [
    {
     "data": {
      "text/plain": [
       "21"
      ]
     },
     "execution_count": 112,
     "metadata": {},
     "output_type": "execute_result"
    }
   ],
   "source": [
    "a_1.sum()"
   ]
  },
  {
   "cell_type": "code",
   "execution_count": 113,
   "id": "a66f16d5",
   "metadata": {
    "scrolled": true
   },
   "outputs": [
    {
     "data": {
      "text/plain": [
       "array([0, 1, 2, 3, 4, 5, 6, 7])"
      ]
     },
     "execution_count": 113,
     "metadata": {},
     "output_type": "execute_result"
    }
   ],
   "source": [
    "arr"
   ]
  },
  {
   "cell_type": "code",
   "execution_count": 114,
   "id": "8935895e",
   "metadata": {},
   "outputs": [
    {
     "data": {
      "text/plain": [
       "array([ 9, 12])"
      ]
     },
     "execution_count": 114,
     "metadata": {},
     "output_type": "execute_result"
    }
   ],
   "source": [
    "a_1.sum(axis=0)"
   ]
  },
  {
   "cell_type": "code",
   "execution_count": 115,
   "id": "5f42f30e",
   "metadata": {},
   "outputs": [
    {
     "data": {
      "text/plain": [
       "array([ 3,  7, 11])"
      ]
     },
     "execution_count": 115,
     "metadata": {},
     "output_type": "execute_result"
    }
   ],
   "source": [
    "a_1.sum(axis=1)"
   ]
  },
  {
   "cell_type": "markdown",
   "id": "a875fb93",
   "metadata": {},
   "source": [
    "### ```.sqrt```"
   ]
  },
  {
   "cell_type": "code",
   "execution_count": 116,
   "id": "d5a30352",
   "metadata": {},
   "outputs": [
    {
     "data": {
      "text/plain": [
       "array([[1.        , 1.41421356],\n",
       "       [1.73205081, 2.        ],\n",
       "       [2.23606798, 2.44948974]])"
      ]
     },
     "execution_count": 116,
     "metadata": {},
     "output_type": "execute_result"
    }
   ],
   "source": [
    "np.sqrt(a_1)"
   ]
  },
  {
   "cell_type": "markdown",
   "id": "90592ee2",
   "metadata": {},
   "source": [
    "### ```.std```"
   ]
  },
  {
   "cell_type": "code",
   "execution_count": 117,
   "id": "f29f6a0d",
   "metadata": {},
   "outputs": [
    {
     "data": {
      "text/plain": [
       "1.707825127659933"
      ]
     },
     "execution_count": 117,
     "metadata": {},
     "output_type": "execute_result"
    }
   ],
   "source": [
    "np.std(a_1)"
   ]
  },
  {
   "cell_type": "markdown",
   "id": "2d069766",
   "metadata": {},
   "source": [
    "### ```.argmax```\n",
    "Return the index of the maximum element along a given axis"
   ]
  },
  {
   "cell_type": "code",
   "execution_count": 25,
   "id": "6490748d",
   "metadata": {},
   "outputs": [
    {
     "data": {
      "text/plain": [
       "6"
      ]
     },
     "execution_count": 25,
     "metadata": {},
     "output_type": "execute_result"
    }
   ],
   "source": [
    "ranarr.argmax()"
   ]
  },
  {
   "cell_type": "markdown",
   "id": "b29447c8",
   "metadata": {},
   "source": [
    "### ```.argmin```\n",
    "Return the index of the minimum element along a given axis"
   ]
  },
  {
   "cell_type": "code",
   "execution_count": 26,
   "id": "13d1d33d",
   "metadata": {},
   "outputs": [
    {
     "data": {
      "text/plain": [
       "3"
      ]
     },
     "execution_count": 26,
     "metadata": {},
     "output_type": "execute_result"
    }
   ],
   "source": [
    "ranarr.argmin()"
   ]
  },
  {
   "cell_type": "code",
   "execution_count": null,
   "id": "e33c2f7d",
   "metadata": {},
   "outputs": [],
   "source": []
  },
  {
   "cell_type": "markdown",
   "id": "673288e0",
   "metadata": {},
   "source": [
    "## Basic Math Operations"
   ]
  },
  {
   "cell_type": "code",
   "execution_count": 126,
   "id": "d1445eee",
   "metadata": {},
   "outputs": [
    {
     "data": {
      "text/plain": [
       "array([[1, 2],\n",
       "       [3, 4]])"
      ]
     },
     "execution_count": 126,
     "metadata": {},
     "output_type": "execute_result"
    }
   ],
   "source": [
    "array_a = np.array([[1,2], [3,4]])\n",
    "array_a"
   ]
  },
  {
   "cell_type": "code",
   "execution_count": 127,
   "id": "0b5de8aa",
   "metadata": {},
   "outputs": [
    {
     "data": {
      "text/plain": [
       "array([[5, 6],\n",
       "       [7, 8]])"
      ]
     },
     "execution_count": 127,
     "metadata": {},
     "output_type": "execute_result"
    }
   ],
   "source": [
    "array_b = np.array([[5,6], [7,8]])\n",
    "array_b"
   ]
  },
  {
   "cell_type": "code",
   "execution_count": 128,
   "id": "f7dfc73e",
   "metadata": {},
   "outputs": [
    {
     "data": {
      "text/plain": [
       "array([[ 6,  8],\n",
       "       [10, 12]])"
      ]
     },
     "execution_count": 128,
     "metadata": {},
     "output_type": "execute_result"
    }
   ],
   "source": [
    "array_a+array_b"
   ]
  },
  {
   "cell_type": "code",
   "execution_count": 129,
   "id": "380aa220",
   "metadata": {
    "scrolled": true
   },
   "outputs": [
    {
     "data": {
      "text/plain": [
       "array([[ 5, 12],\n",
       "       [21, 32]])"
      ]
     },
     "execution_count": 129,
     "metadata": {},
     "output_type": "execute_result"
    }
   ],
   "source": [
    "array_a*array_b"
   ]
  },
  {
   "cell_type": "code",
   "execution_count": 132,
   "id": "2f136acb",
   "metadata": {},
   "outputs": [
    {
     "data": {
      "text/plain": [
       "array([[19, 22],\n",
       "       [43, 50]])"
      ]
     },
     "execution_count": 132,
     "metadata": {},
     "output_type": "execute_result"
    }
   ],
   "source": [
    "array_a.dot(array_b)\n",
    "# To do a matrix product!!"
   ]
  },
  {
   "cell_type": "markdown",
   "id": "e7998272",
   "metadata": {},
   "source": [
    "## LMS Examples & Practices"
   ]
  },
  {
   "cell_type": "code",
   "execution_count": 27,
   "id": "f3feb838",
   "metadata": {
    "scrolled": true
   },
   "outputs": [
    {
     "name": "stdout",
     "output_type": "stream",
     "text": [
      "[ 0  3  6  9 12 15 18]\n"
     ]
    }
   ],
   "source": [
    "print(np.arange(0,20,3))"
   ]
  },
  {
   "cell_type": "code",
   "execution_count": 28,
   "id": "7e86afc2",
   "metadata": {},
   "outputs": [
    {
     "data": {
      "text/plain": [
       "array([ 0,  2,  4,  6,  8, 10])"
      ]
     },
     "execution_count": 28,
     "metadata": {},
     "output_type": "execute_result"
    }
   ],
   "source": [
    "np.arange(0,11,2)"
   ]
  },
  {
   "cell_type": "code",
   "execution_count": 29,
   "id": "ae12ed2d",
   "metadata": {},
   "outputs": [
    {
     "data": {
      "text/plain": [
       "array([ 0., 10., 20., 30., 40.])"
      ]
     },
     "execution_count": 29,
     "metadata": {},
     "output_type": "execute_result"
    }
   ],
   "source": [
    "np.linspace(0,40,5)"
   ]
  },
  {
   "cell_type": "code",
   "execution_count": 30,
   "id": "fbf6e73a",
   "metadata": {},
   "outputs": [
    {
     "data": {
      "text/plain": [
       "5"
      ]
     },
     "execution_count": 30,
     "metadata": {},
     "output_type": "execute_result"
    }
   ],
   "source": [
    "np.random.randint(1,10)"
   ]
  },
  {
   "cell_type": "markdown",
   "id": "16fd207c",
   "metadata": {},
   "source": [
    "### ```.ndim```\n",
    "the number of axes (dimensions) of the array."
   ]
  },
  {
   "cell_type": "code",
   "execution_count": 35,
   "id": "d07433d9",
   "metadata": {},
   "outputs": [
    {
     "data": {
      "text/plain": [
       "array([6, 3, 7, 4, 6, 9, 2, 6, 7, 4])"
      ]
     },
     "execution_count": 35,
     "metadata": {},
     "output_type": "execute_result"
    }
   ],
   "source": [
    "np.random.seed(42)\n",
    "array_1 = np.random.randint(10,size=10)\n",
    "array_1"
   ]
  },
  {
   "cell_type": "code",
   "execution_count": 37,
   "id": "885f17ec",
   "metadata": {},
   "outputs": [
    {
     "data": {
      "text/plain": [
       "1"
      ]
     },
     "execution_count": 37,
     "metadata": {},
     "output_type": "execute_result"
    }
   ],
   "source": [
    "# rows and columns = 2 dimentions\n",
    "array_1.ndim"
   ]
  },
  {
   "cell_type": "markdown",
   "id": "06ddfb2d",
   "metadata": {},
   "source": [
    "### ```.shape```\n",
    "The dimensions  of the array. This is a tuple of integers indicating the size of the array in each dimension. "
   ]
  },
  {
   "cell_type": "code",
   "execution_count": 42,
   "id": "3ddcdf5f",
   "metadata": {},
   "outputs": [
    {
     "data": {
      "text/plain": [
       "array([[3, 1, 5, 5, 9],\n",
       "       [3, 5, 1, 9, 1],\n",
       "       [9, 3, 7, 6, 8]])"
      ]
     },
     "execution_count": 42,
     "metadata": {},
     "output_type": "execute_result"
    }
   ],
   "source": [
    "array_b = np.random.randint(10,size=(3,5))\n",
    "array_b"
   ]
  },
  {
   "cell_type": "code",
   "execution_count": 41,
   "id": "c3448bf7",
   "metadata": {},
   "outputs": [
    {
     "data": {
      "text/plain": [
       "(3, 5)"
      ]
     },
     "execution_count": 41,
     "metadata": {},
     "output_type": "execute_result"
    }
   ],
   "source": [
    "array_b.shape"
   ]
  },
  {
   "cell_type": "markdown",
   "id": "0a197147",
   "metadata": {},
   "source": [
    "### ```.size```\n",
    "The total number of elements of the array. This is equal to the product of the elements of shape."
   ]
  },
  {
   "cell_type": "code",
   "execution_count": 43,
   "id": "ce66d891",
   "metadata": {},
   "outputs": [
    {
     "data": {
      "text/plain": [
       "15"
      ]
     },
     "execution_count": 43,
     "metadata": {},
     "output_type": "execute_result"
    }
   ],
   "source": [
    "array_b.size"
   ]
  },
  {
   "cell_type": "markdown",
   "id": "65118ac5",
   "metadata": {},
   "source": [
    "### ```.dtype```\n",
    "An object describing the type of the elements in the array."
   ]
  },
  {
   "cell_type": "code",
   "execution_count": 45,
   "id": "af9b7bc2",
   "metadata": {},
   "outputs": [
    {
     "data": {
      "text/plain": [
       "dtype('int32')"
      ]
     },
     "execution_count": 45,
     "metadata": {},
     "output_type": "execute_result"
    }
   ],
   "source": [
    "array_b.dtype"
   ]
  },
  {
   "cell_type": "markdown",
   "id": "a303cbbe",
   "metadata": {},
   "source": [
    "### ```.itemsize```\n",
    "The size in bytes of each element of the array. It is equivalent to  ```.dtype.itemsize```."
   ]
  },
  {
   "cell_type": "code",
   "execution_count": 46,
   "id": "090f79c0",
   "metadata": {},
   "outputs": [
    {
     "data": {
      "text/plain": [
       "4"
      ]
     },
     "execution_count": 46,
     "metadata": {},
     "output_type": "execute_result"
    }
   ],
   "source": [
    "array_b.itemsize"
   ]
  },
  {
   "cell_type": "markdown",
   "id": "0a1d101f",
   "metadata": {},
   "source": [
    "### ```.concatenate```\n",
    "The size in bytes of each element of the array. It is equivalent to  ```.dtype.itemsize```."
   ]
  },
  {
   "cell_type": "code",
   "execution_count": 49,
   "id": "34a1dff7",
   "metadata": {},
   "outputs": [],
   "source": [
    "x_a = np.array([1,2,3])\n",
    "x_b = np.array([4,5,6])"
   ]
  },
  {
   "cell_type": "code",
   "execution_count": 50,
   "id": "8093d783",
   "metadata": {},
   "outputs": [
    {
     "data": {
      "text/plain": [
       "array([1, 2, 3, 4, 5, 6])"
      ]
     },
     "execution_count": 50,
     "metadata": {},
     "output_type": "execute_result"
    }
   ],
   "source": [
    "np.concatenate([x_a,x_b])"
   ]
  },
  {
   "cell_type": "markdown",
   "id": "aa9b92a7",
   "metadata": {},
   "source": [
    "### ```.split```\n",
    "Splits an array into multiple sub-arrays as views into array."
   ]
  },
  {
   "cell_type": "code",
   "execution_count": 53,
   "id": "264037bc",
   "metadata": {},
   "outputs": [
    {
     "data": {
      "text/plain": [
       "array([ 1,  2,  3, 55, 66, 88, 94, 65,  3,  2,  1])"
      ]
     },
     "execution_count": 53,
     "metadata": {},
     "output_type": "execute_result"
    }
   ],
   "source": [
    "x_c = np.array([1,2,3,55,66,88,94,65,3,2,1])\n",
    "x_c"
   ]
  },
  {
   "cell_type": "code",
   "execution_count": 61,
   "id": "260c4d72",
   "metadata": {},
   "outputs": [
    {
     "data": {
      "text/plain": [
       "[array([1, 2, 3]), array([55, 66]), array([88, 94, 65,  3,  2,  1])]"
      ]
     },
     "execution_count": 61,
     "metadata": {},
     "output_type": "execute_result"
    }
   ],
   "source": [
    "np.split(x_c,[3,5])"
   ]
  },
  {
   "cell_type": "markdown",
   "id": "1733d917",
   "metadata": {},
   "source": [
    "### ```.sort```\n",
    "Return a sorted copy of an array."
   ]
  },
  {
   "cell_type": "code",
   "execution_count": 63,
   "id": "69ca9484",
   "metadata": {},
   "outputs": [
    {
     "data": {
      "text/plain": [
       "array([2, 1, 4, 3, 5])"
      ]
     },
     "execution_count": 63,
     "metadata": {},
     "output_type": "execute_result"
    }
   ],
   "source": [
    "v1 = np.array([2,1,4,3,5])\n",
    "v1"
   ]
  },
  {
   "cell_type": "code",
   "execution_count": 64,
   "id": "30872801",
   "metadata": {},
   "outputs": [
    {
     "data": {
      "text/plain": [
       "array([1, 2, 3, 4, 5])"
      ]
     },
     "execution_count": 64,
     "metadata": {},
     "output_type": "execute_result"
    }
   ],
   "source": [
    "np.sort(v1)"
   ]
  },
  {
   "cell_type": "code",
   "execution_count": 67,
   "id": "3b74aa9f",
   "metadata": {},
   "outputs": [],
   "source": [
    "v1.sort() # Sorted in place"
   ]
  },
  {
   "cell_type": "code",
   "execution_count": 69,
   "id": "1f0a0281",
   "metadata": {},
   "outputs": [
    {
     "data": {
      "text/plain": [
       "array([1, 2, 3, 4, 5])"
      ]
     },
     "execution_count": 69,
     "metadata": {},
     "output_type": "execute_result"
    }
   ],
   "source": [
    "v1"
   ]
  },
  {
   "cell_type": "code",
   "execution_count": null,
   "id": "20f6a8fb",
   "metadata": {},
   "outputs": [],
   "source": []
  }
 ],
 "metadata": {
  "kernelspec": {
   "display_name": "Python 3 (ipykernel)",
   "language": "python",
   "name": "python3"
  },
  "language_info": {
   "codemirror_mode": {
    "name": "ipython",
    "version": 3
   },
   "file_extension": ".py",
   "mimetype": "text/x-python",
   "name": "python",
   "nbconvert_exporter": "python",
   "pygments_lexer": "ipython3",
   "version": "3.10.1"
  }
 },
 "nbformat": 4,
 "nbformat_minor": 5
}
